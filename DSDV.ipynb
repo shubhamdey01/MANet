{
 "cells": [
  {
   "cell_type": "code",
   "execution_count": 10,
   "id": "f7c7f5cd-3bf8-4cdc-baa4-0e82ed400446",
   "metadata": {},
   "outputs": [],
   "source": [
    "import os\n",
    "import copy\n",
    "import time"
   ]
  },
  {
   "cell_type": "code",
   "execution_count": 12,
   "id": "c3a891ce-39df-4103-aa18-de83f1089907",
   "metadata": {},
   "outputs": [],
   "source": [
    "def calculate_least_adjacent_cost(adjacency_list, i, v, cache):\n",
    "    adjacent_nodes = adjacency_list[v]\n",
    "    \n",
    "    least_adjacent_cost = float(\"inf\")\n",
    "    for node in adjacent_nodes:\n",
    "        adjacent_cost = cache[node[\"from\"] - 1] + node[\"weight\"]\n",
    "        if adjacent_cost < least_adjacent_cost:\n",
    "            least_adjacent_cost = adjacent_cost\n",
    "    return least_adjacent_cost"
   ]
  },
  {
   "cell_type": "code",
   "execution_count": 15,
   "id": "b25be035-2e56-40c2-b1ed-d82bde7c46da",
   "metadata": {},
   "outputs": [],
   "source": [
    "start_time = time.time()\n",
    "\n",
    "# Load the graph from the file\n",
    "with open(\"g_tiny.txt\") as file:\n",
    "    vertices, edges = map(int, file.readline().strip().split())\n",
    "    adjacency_list = [[] for _ in range(vertices)]\n",
    "    for line in file.readlines():\n",
    "        tail, head, weight = line.split()\n",
    "        adjacency_list[int(head) - 1].append({\"from\": int(tail), \"weight\": int(weight)})"
   ]
  },
  {
   "cell_type": "code",
   "execution_count": 16,
   "id": "f2f45688-a66c-45f9-b902-92e8f806fc0c",
   "metadata": {},
   "outputs": [],
   "source": [
    "# Initialize cache\n",
    "s = 0\n",
    "cache = [float(\"inf\")] * vertices\n",
    "cache[s] = 0"
   ]
  },
  {
   "cell_type": "code",
   "execution_count": 17,
   "id": "6186541b-ed98-4950-8fb4-a5eef1a4b75a",
   "metadata": {},
   "outputs": [
    {
     "name": "stdout",
     "output_type": "stream",
     "text": [
      "[0, inf, inf, inf, inf, inf]\n",
      "[0, 2, 5, -2, 0, 10]\n",
      "[0, 2, 5, -2, 0, 10]\n",
      "[0, 2, 5, -2, 0, 10]\n",
      "[0, 2, 5, -2, 0, 10]\n"
     ]
    }
   ],
   "source": [
    "# Bellman-Ford algorithm\n",
    "for i in range(1, vertices):\n",
    "    print(cache)\n",
    "    for v in range(vertices):\n",
    "        previous_cache = cache[:]\n",
    "        least_adjacent_cost = calculate_least_adjacent_cost(adjacency_list, i, v, previous_cache)\n",
    "        cache[v] = min(previous_cache[v], least_adjacent_cost)"
   ]
  },
  {
   "cell_type": "code",
   "execution_count": 18,
   "id": "bbd81a2d-982d-4a57-a62c-27dc0a81ebf3",
   "metadata": {},
   "outputs": [],
   "source": [
    "# Detecting negative cycles\n",
    "for v in range(vertices):\n",
    "    previous_cache = copy.deepcopy(cache)\n",
    "    least_adjacent_cost = calculate_least_adjacent_cost(adjacency_list, i, v, previous_cache)\n",
    "    cache[v] = min(previous_cache[v], least_adjacent_cost)\n",
    "\n",
    "if cache != previous_cache:\n",
    "    raise Exception(\"Negative cycle detected\")"
   ]
  },
  {
   "cell_type": "code",
   "execution_count": 19,
   "id": "0a39802e-0e77-45da-9f31-427cc2acf831",
   "metadata": {},
   "outputs": [
    {
     "name": "stdout",
     "output_type": "stream",
     "text": [
      "Shortest Path: -2\n",
      "--- 38.379892110824585 seconds ---\n"
     ]
    }
   ],
   "source": [
    "# Print shortest path\n",
    "shortest_path = min(cache)\n",
    "print(\"Shortest Path: \" + str(shortest_path))\n",
    "print(\"--- %s seconds ---\" % (time.time() - start_time))"
   ]
  },
  {
   "cell_type": "code",
   "execution_count": null,
   "id": "3e7d7523-2856-4ae8-9fab-27d4cf5807a7",
   "metadata": {},
   "outputs": [],
   "source": []
  }
 ],
 "metadata": {
  "kernelspec": {
   "display_name": "Python 3 (ipykernel)",
   "language": "python",
   "name": "python3"
  },
  "language_info": {
   "codemirror_mode": {
    "name": "ipython",
    "version": 3
   },
   "file_extension": ".py",
   "mimetype": "text/x-python",
   "name": "python",
   "nbconvert_exporter": "python",
   "pygments_lexer": "ipython3",
   "version": "3.12.4"
  }
 },
 "nbformat": 4,
 "nbformat_minor": 5
}
