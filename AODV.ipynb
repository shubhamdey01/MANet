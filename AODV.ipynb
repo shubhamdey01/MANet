{
 "cells": [
  {
   "cell_type": "code",
   "execution_count": 1,
   "id": "40136fe7-3199-4b0f-bb5b-d83dc3097a52",
   "metadata": {},
   "outputs": [],
   "source": [
    "from math import *\n",
    "from random import randint\n",
    "import time"
   ]
  },
  {
   "cell_type": "code",
   "execution_count": 2,
   "id": "ecac7393-d5e7-4575-a035-ed4142f52dbd",
   "metadata": {},
   "outputs": [],
   "source": [
    "def aodv (hop_count) :\n",
    "\n",
    "\tdrop_factor = (1/(hop_count+1)*1.0)\n",
    "\trandom_value = randint(0,1)\n",
    "\n",
    "\tif(random_value>drop_factor):\n",
    "\t\tprint(\"RREQ_packet is forwarded\")\n",
    "\n",
    "\telse:\n",
    "\t\tprint(\"RREQ_packet is dropped\")\n",
    "\n",
    "\treturn"
   ]
  },
  {
   "cell_type": "code",
   "execution_count": 5,
   "id": "2f60cdc1-998f-459e-b467-0f0d06cd5ab8",
   "metadata": {},
   "outputs": [
    {
     "name": "stdout",
     "output_type": "stream",
     "text": [
      "For single-hop aodv protocol:\n",
      "\n",
      "RREQ_packet is forwarded\n"
     ]
    }
   ],
   "source": [
    "start_time = time.time()\n",
    "hop_count = 1 # single-hop\n",
    "print( \"For single-hop aodv protocol:\\n\")\n",
    "aodv(hop_count);"
   ]
  },
  {
   "cell_type": "code",
   "execution_count": 11,
   "id": "ddb94ced-5f5d-4306-9676-e0f0ee4ad7d0",
   "metadata": {},
   "outputs": [
    {
     "name": "stdout",
     "output_type": "stream",
     "text": [
      "For multi-hop aodv protocol:\n",
      "\n",
      "RREQ_packet is forwarded\n"
     ]
    }
   ],
   "source": [
    "hop_count = 2 # greater than 1 => multihop\n",
    "print(\"For multi-hop aodv protocol:\\n\")\n",
    "aodv(hop_count);\n",
    "# print(\"--- %s seconds ---\", time.time() - start_time)"
   ]
  },
  {
   "cell_type": "code",
   "execution_count": null,
   "id": "587a8e62-7700-4847-b352-78ddcf9ed3b8",
   "metadata": {},
   "outputs": [],
   "source": []
  },
  {
   "cell_type": "code",
   "execution_count": null,
   "id": "650f47fd-3c00-4902-80f6-0c7a93224d60",
   "metadata": {},
   "outputs": [],
   "source": []
  },
  {
   "cell_type": "code",
   "execution_count": null,
   "id": "6b43ad9d-e7ef-43db-827e-2a7c1f917623",
   "metadata": {},
   "outputs": [],
   "source": []
  },
  {
   "cell_type": "code",
   "execution_count": null,
   "id": "fb9a2b76-cff0-4446-b59b-1a941b4c8df9",
   "metadata": {},
   "outputs": [],
   "source": []
  },
  {
   "cell_type": "code",
   "execution_count": null,
   "id": "aca66361-96d9-48d6-8f2a-0a128d56f8fa",
   "metadata": {},
   "outputs": [],
   "source": []
  },
  {
   "cell_type": "code",
   "execution_count": null,
   "id": "ac9841ff-20fe-4592-81ec-75b59829aef6",
   "metadata": {},
   "outputs": [],
   "source": []
  },
  {
   "cell_type": "code",
   "execution_count": null,
   "id": "d45e02f7-5771-4538-a5b3-3266c2b6e46e",
   "metadata": {},
   "outputs": [],
   "source": []
  },
  {
   "cell_type": "code",
   "execution_count": null,
   "id": "fb24737d-98f1-40f3-9802-d55d6d0eee5f",
   "metadata": {},
   "outputs": [],
   "source": [
    "#!/usr/bin/python\n",
    "\n",
    "\n",
    "\n",
    "\n",
    "\n",
    "\n",
    "\n",
    "\n"
   ]
  }
 ],
 "metadata": {
  "kernelspec": {
   "display_name": "Python 3 (ipykernel)",
   "language": "python",
   "name": "python3"
  },
  "language_info": {
   "codemirror_mode": {
    "name": "ipython",
    "version": 3
   },
   "file_extension": ".py",
   "mimetype": "text/x-python",
   "name": "python",
   "nbconvert_exporter": "python",
   "pygments_lexer": "ipython3",
   "version": "3.12.4"
  }
 },
 "nbformat": 4,
 "nbformat_minor": 5
}
